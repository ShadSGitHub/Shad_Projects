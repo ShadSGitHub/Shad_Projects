{
 "cells": [
  {
   "cell_type": "markdown",
   "metadata": {
    "id": "1LwvvMtG18SK"
   },
   "source": [
    "# Recurrent Neural Network Homework\n",
    "\n",
    "This is the 4th assignment for CAP 4630 and we will implement a basic RNN network and an LSTM network with Keras to solve two problems. \\\n",
    "You will use **\"Tasks\"** and **\"Hints\"** to finish the work. **(Total points 85, plus 15 bonus points)** \\\n",
    "You may use Machine Learning libaries like Scikit-learn for data preprocessing.\n",
    "\n",
    "**Task Overview:**\n",
    "- Implement a basic RNN network to solve time series prediction \n",
    "- Implement an LSTM network to conduct sentiment analysis"
   ]
  },
  {
   "cell_type": "markdown",
   "metadata": {
    "id": "l24oSrIK18SL"
   },
   "source": [
    "## 1 - Implement Basic RNN network with Keras to predict time series##\n",
    "### 1.1 Prepare the data (17 Points)\n",
    "\n",
    "Prepare time series data for deep neural network training.\n",
    "\n",
    "**Tasks:**\n",
    "1. Load the given train and test data: \"train.txt\" and \"test.txt\". **(5 Points)**\n",
    "2. Generate the **TRAIN** and **TEST** labels. **(5 Points)**\n",
    "2. Normalize the **TRAIN** and **TEST** data with sklearn function \"MinMaxScaler\". **(5 Points)**\n",
    "3. Print out the **TEST** data and label. **(2 Points)**\n",
    "\n",
    "**Hints:**  \n",
    "1. The length of original train data is 113 which starts from **\"1949-01\"** to **\"1958-05\"**. The length of original test data is 29, which starts from **\"1958-07\"** to **\"1960-11\"**. \n",
    "2. Set the data types of both train and test data to \"float32\". \n",
    "3. When you prepared input data X (sequences) and oupt data Y (labels), please consider the following relationship:\n",
    "    - The sequence X should be the **past 12** datapoints in the time series, i.e., observation sequence with historical window of 12. You may check the time series data and think about the reason.\n",
    "    - The label Y should be the **next 1** datapoint in the time series (one point ahead prediction).\n",
    "4. The first 3 train data and label should be:\n",
    "\n",
    "trainX[0] = [[0.5801282 &nbsp; 0.625 &nbsp; 0.30128205 &nbsp;0.15705132 &nbsp;0. &nbsp; 0.08653843 &nbsp; 0.16025639 &nbsp; 0.1025641 &nbsp; 0.3076923 &nbsp; 0.27564108 &nbsp;0.3525641 &nbsp; 0.5192307]]\\\n",
    "trainY[0] = [0.7628205]\n",
    "\n",
    "trainX[1] = [[0.625   &nbsp;   0.30128205&nbsp; 0.15705132&nbsp; 0.   &nbsp;      0.08653843 &nbsp;0.16025639&nbsp; 0.1025641 &nbsp; 0. &nbsp;3076923&nbsp; 0.27564108 &nbsp;0.3525641&nbsp;  0.5192307&nbsp;  0.7628205 ]]\\\n",
    "trainY[1] = [0.798077]\n",
    "\n",
    "trainX[2] =  [[0.30128205 &nbsp; 0.15705132 &nbsp; 0.   &nbsp;   0.&nbsp; 08653843&nbsp;0.16025639&nbsp;0.1025641 &nbsp; 0.3076923 &nbsp;0.27564108 &nbsp;0.3525641 &nbsp; 0.5192307 &nbsp;0.7628205 &nbsp; 0.798077]]\\\n",
    "trainY[2] = [0.49038458]\n",
    "\n",
    "5. Apply the MinMaxScaler to both the train and test data.\\\n",
    "https://scikit-learn.org/stable/modules/generated/sklearn.preprocessing.MinMaxScaler.html\n",
    "\n",
    "\n",
    "6. After the preparation with scaler fitting, the shapes of trainX, trainY, testX, and testY are as follows:\\\n",
    "trainX.shape = (101, 1, 12)\\\n",
    "trainY.shape = (101,)\\\n",
    "testX.shape = (17, 1, 12)\\\n",
    "testY.shape = (17,)"
   ]
  },
  {
   "cell_type": "code",
   "execution_count": null,
   "metadata": {
    "id": "hS7xhrC3-_-1"
   },
   "outputs": [],
   "source": [
    "### Import Libraries ###\n",
    "\n",
    "import tensorflow as tf\n",
    "import tensorflow.keras as keras\n",
    "import tensorflow.keras.layers \n",
    "import random\n",
    "import numpy as np\n",
    "\n",
    "### Set random seed to ensure deterministic results\n",
    "import os\n",
    "seed_value = 1\n",
    "os.environ['PYTHONHASHSEED']=str(seed_value)\n",
    "def reset_random_seeds():\n",
    "   tf.random.set_seed(seed_value)\n",
    "   np.random.seed(seed_value)\n",
    "   random.seed(seed_value)\n",
    "reset_random_seeds()"
   ]
  },
  {
   "cell_type": "code",
   "execution_count": null,
   "metadata": {
    "id": "shAj2Y6IuxUv"
   },
   "outputs": [],
   "source": [
    "### Prepare and Preprocess Data Here ###\n",
    "\n",
    "from pandas import read_csv\n",
    "\n",
    "### Design a Function to Prepare Observation Sequences and Corresponding Labels ###\n",
    "\n",
    "# def create_dataset(dataset, look_back=12): # look_back is used to specify input sequence length\n",
    "#     dataX, dataY = [], []\n",
    "#     for i in range(len(dataset)-look_back):\n",
    "#         dataX.append( ) # make sure correct start and end elements\n",
    "#         dataY.append( ) # make sure correct start and end elements; here, we have only one point ahead for prediction\n",
    "#         return np.array(dataX), np.array(dataY)\n",
    "\n",
    "\n",
    "### Train and Test Data Loading with float32 type ####\n",
    "\n",
    "# dataframe_test = read_csv()\n",
    "# dataset_test = dataframe_test.values\n",
    "# dataset_test = dataset_test.astype('float32')\n",
    "\n",
    "\n"
   ]
  },
  {
   "cell_type": "code",
   "execution_count": null,
   "metadata": {
    "id": "O8MlgYTvvIeD"
   },
   "outputs": [],
   "source": [
    "from sklearn.preprocessing import MinMaxScaler\n",
    "\n",
    "### Scale Training and Test Data to [0, 1] ###\n",
    "\n",
    "# scaler = MinMaxScaler(feature_range=(0, 1)) # specify the scaler\n",
    "# train = scaler.fit_transform() # fit the scaler to the training data\n",
    "# test = scaler.fit_transform() # fit the scaler to the test data\n"
   ]
  },
  {
   "cell_type": "code",
   "execution_count": null,
   "metadata": {},
   "outputs": [],
   "source": [
    "### Train and Test Data Split\n",
    "\n",
    "# trainX, trainY = create_dataset(.., look_back=12) # historical window is 12; future window is 1.\n",
    "# testX, testY = create_dataset(..., look_back=12)\n",
    "\n",
    "### Train and Test Data Reshape (to fit RNN input)\n",
    "\n",
    "# trainX = np.reshape(trainX, (trainX.shape[0], 1, trainX.shape[1])) \n",
    "# testX = np.reshape(testX, (...))"
   ]
  },
  {
   "cell_type": "code",
   "execution_count": null,
   "metadata": {
    "id": "AQ1uHWzX8wlH"
   },
   "outputs": [],
   "source": [
    "# print out the test data and label here\n",
    "\n",
    "# print(testX)\n",
    "# print(testY)\n"
   ]
  },
  {
   "cell_type": "markdown",
   "metadata": {
    "id": "0AlakqA_vuFb"
   },
   "source": [
    "### 1.2 - Build the RNN model (20 Points) ##\n",
    "\n",
    "\n",
    "Build an RNN model with SimpleRNN cell. \n",
    "\n",
    "**Tasks:**\n",
    "1. Build an RNN model with 1 RNN layer and 1 Dense layer.  **(10 Points)**\n",
    "2. Compile the model. **(5 Points)**\n",
    "3. Train the model for 100 epochs with **batch_size = 10**. **(5 Points)**\n",
    "\n",
    "**Hints:**  \n",
    "1. You may consider **tensorflow.keras.layers.SimpleRNN(unit_size=4)** to specify RNN cells.\n",
    "2. Use loss function = 'mean_squared_error' and select **Adam** optimizer with **learning_rate=0.01** and other default settings.\n",
    "3. After first epoch, the train loss is changed to around **0.0656**. \n"
   ]
  },
  {
   "cell_type": "code",
   "execution_count": null,
   "metadata": {
    "id": "Jn92qh8oyq0B"
   },
   "outputs": [],
   "source": [
    "### Build the RNN Model ###\n",
    "import keras\n",
    "from keras.models import Sequential\n",
    "\n",
    "keras.backend.clear_session()\n",
    "\n",
    "# model = Sequential() # Declare Sequential class and assign it to variable \"model\"\n",
    "# model.add(keras.layers.SimpleRNN( )) # Add a simple RNN layer with unit_size=4 in the model \n",
    "# model.add(keras.layers.Dense( )) # Add a following Dense layer with units=1 in the model \n"
   ]
  },
  {
   "cell_type": "code",
   "execution_count": null,
   "metadata": {
    "id": "GnO-5WT-3hgH"
   },
   "outputs": [],
   "source": [
    "### Compile the RNN model ###\n",
    "\n",
    "# opt = keras.optimizers.Adam(learning_rate=0.01)\n",
    "# model.compile(...) # model compiled with mean_squared_error loss and adam optimizer"
   ]
  },
  {
   "cell_type": "code",
   "execution_count": null,
   "metadata": {
    "id": "6tpZAutlzify"
   },
   "outputs": [],
   "source": [
    "### Train the RNN model and PRINT OUT MODEL STRUCTURE with model.summary() ###\n",
    "\n",
    "# model.fit(...) # model fit with epoch=100, batch_size=10; verbose=2 is optional.\n",
    "# model.summary() # print out model structure with model.summary()"
   ]
  },
  {
   "attachments": {
    "image.png": {
     "image/png": "[encoded data removed]"
    }
   },
   "cell_type": "markdown",
   "metadata": {
    "id": "Dd2jZl4n0H8m"
   },
   "source": [
    "### 1.3 Evaluate Predictive Model Performance (10 Points)\n",
    "\n",
    "Predict datapoints with the observed datapoints and trained model. \n",
    "\n",
    "**Tasks:**\n",
    "1. Do direct prediction on train and test datapoints with the obtained model in section 1.2. **(2 Points)**\n",
    "2. Scale the prediction results back to original representation with the scaler. **(3 Points)**\n",
    "3. Calculate root mean squared error (RMSE) and **print out** the error for **both TRAIN and TEST**. **(3 Points)**\n",
    "4. **Plot** the **TEST** label and prediction. **(2 Points)**\n",
    "\n",
    "\n",
    "**Hints:**  \n",
    "1. Scale back the predictions with the build-in function \"scaler.inverse_transform\".\\\n",
    "https://scikit-learn.org/stable/modules/generated/sklearn.preprocessing.MinMaxScaler.html#sklearn.preprocessing.MinMaxScaler.inverse_transform\n",
    "2. For validation: Train Score: **~13 RMSE** Test Score: **~19 RMSE**\n",
    "3. The plot for validation is shown below (observation test data are blue and prediction results are orange):\n",
    "![image.png](attachment:image.png)"
   ]
  },
  {
   "cell_type": "code",
   "execution_count": null,
   "metadata": {
    "id": "KNEkAMxnz8Mq"
   },
   "outputs": [],
   "source": [
    "### Make Predictions ###\n",
    "\n",
    "# trainPredict = model.predict( )\n",
    "# testPredict = \n"
   ]
  },
  {
   "cell_type": "code",
   "execution_count": null,
   "metadata": {
    "id": "LbnRqEv9z-he"
   },
   "outputs": [],
   "source": [
    "### Scale Back Predictions ###\n",
    "\n",
    "# trainPredict = scaler.inverse_transform(trainPredict) # scale train prediction back with scaler.inverse_transform()\n",
    "# trainY = scaler.inverse_transform([trainY])  # scale train labels back with scaler.inverse_transform()\n",
    "\n",
    "# testPredict = scaler.inverse_transform( ) # scale test prediction back with scaler.inverse_transform()\n",
    "# testY = scaler.inverse_transform( ) # scale test labels back with scaler.inverse_transform()\n"
   ]
  },
  {
   "cell_type": "code",
   "execution_count": null,
   "metadata": {
    "id": "xdBWzmE91G6_"
   },
   "outputs": [],
   "source": [
    "### Calculate Root Mean Squared Error (RMSE) ###\n",
    "import math\n",
    "from sklearn.metrics import mean_squared_error # Import mean_squared_error from sklearn.metrics\n",
    "\n",
    "# trainScore = math.sqrt(mean_squared_error(trainY[0], trainPredict[:,0])) \n",
    "# testScore = \n",
    "# print('Train Score: %.2f RMSE' % (trainScore))\n",
    "# print('Test Score: %.2f RMSE' % (testScore))"
   ]
  },
  {
   "cell_type": "code",
   "execution_count": null,
   "metadata": {
    "id": "txdu8q7l1aju"
   },
   "outputs": [],
   "source": [
    "### Plot Baseline and Predictions ###\n",
    "\n",
    "# plt.plot(testY[0]) \n",
    "# plt.plot(testPredict)"
   ]
  },
  {
   "cell_type": "markdown",
   "metadata": {
    "id": "O49Ug-FhtCg8"
   },
   "source": [
    "## 2 - Build an LSTM model to conduct sentiment analysis ##\n",
    "\n",
    "### 2.1 Prepare the data (13 Points) ###\n",
    "\n",
    "Prepare IMDB data for reccurent neural network training.\n",
    "\n",
    "**Tasks:**\n",
    "1. Load the data from IMDB review dataset and **print out** the lengths of sequences. **(3 Points)**\n",
    "2. Preprocess review data to meet the network input requirement by specifying **number of words=1000**, setting **the analysis length of the review = 100**, and **padding the input sequences**. **(10 Points)**\n",
    "\n",
    "**Hints:**  \n",
    "1. You may load the IMDB data with keras.datasets.imdb.load_data(num_words=max_features). Here. max_features is set to **1000**.\n",
    "2. You may use keras.preprocessing.sequence.pad_sequences(x_train, maxlen) to pad the input sequences and set maxlen to **100**.\n",
    "\n",
    "**Note:**\\\n",
    "We train the built LSTM-based model with ALL training data; the **validation set** (aka **development set**) is set with the **testing set** for model evaluation. This split is common in the application with limited sampled observation data, like NLP problems.\n"
   ]
  },
  {
   "cell_type": "code",
   "execution_count": null,
   "metadata": {
    "id": "UI4ki461S2V3"
   },
   "outputs": [],
   "source": [
    "import tensorflow as tf\n",
    "import tensorflow.keras as keras\n",
    "from keras import layers\n",
    "import random\n",
    "import numpy as np\n",
    "\n",
    "\n",
    "### Set random seed to ensure deterministic results\n",
    "import os\n",
    "seed_value = 1\n",
    "os.environ['PYTHONHASHSEED']=str(seed_value)\n",
    "def reset_random_seeds():\n",
    "   tf.random.set_seed(seed_value)\n",
    "   np.random.seed(seed_value)\n",
    "   random.seed(seed_value)\n",
    "\n",
    "reset_random_seeds() # randomly set initial data"
   ]
  },
  {
   "cell_type": "code",
   "execution_count": null,
   "metadata": {
    "id": "LvV1Sv2a18SM"
   },
   "outputs": [],
   "source": [
    "# Prepare the data here\n",
    "\n",
    "# max_features =  # Only consider the top 1k words\n",
    "# maxlen =  # Only consider the first 100 words of each movie review\n",
    "\n",
    "# (x_train, y_train), (x_val, y_val) = keras.datasets.imdb.load_data( ) # load IMDB data with specified num_words = 1000; testing set is set to validation set.\n",
    "# print(len(x_train), \"Training sequences\")\n",
    "# print(len(x_val), \"Validation sequences\")\n",
    "# x_train = keras.preprocessing.sequence.pad_sequences( ) # Pad IMDB training data with specified maxlen=100\n",
    "# x_val = keras.preprocessing.sequence.pad_sequences( ) # Pad IMDB validation data with specified maxlen=100\n",
    "\n"
   ]
  },
  {
   "cell_type": "markdown",
   "metadata": {
    "id": "v_JFQeWK18SR"
   },
   "source": [
    "### 2.2 - Design and train LSTM model (25 Points) ###\n",
    "\n",
    "Build an LSTM model.\n",
    "\n",
    "**Tasks:**\n",
    "1. Build the LSTM model with **1 embedding layer**, **1 LSTM layer**, and **1 Dense layer**. **Print out** model summary. The embedding vector is specified with the dimension of **8**. **(10 Points)**\n",
    "2. Compile the LSTM model with **Adam** optimizer, **binary_crossentropy** loss function, and **accuracy** metrics. **(5 Points)**  \n",
    "3. Train the LSTM model with **batch_size=64 for 10 epochs** and report **training and validation accuracies over epochs**. **(5 Points)**\n",
    "4. **Print out** best validation accuracy. **(5 Points)**\n",
    "\n",
    "\n",
    "\n",
    "**Hints:**  \n",
    "1. Set input dimension to **1000** and output dimension to **8** for embedding layer.\n",
    "2. Set **unit_size=8** for LSTM layer.\n",
    "3. Set activation function to **sigmoid** for Dense layer.\n",
    "4. For validation: the outputs for first epoch should be close to（but maybe not exactly following） the statistics below:\\\n",
    "**loss: ~0.5675 - accuracy: ~0.7072 - val_loss: ~0.4549 - val_accuracy: ~0.8020**\n",
    "\n",
    "**Useful Reference:**\n",
    "1. https://keras.io/examples/nlp/bidirectional_lstm_imdb/"
   ]
  },
  {
   "cell_type": "code",
   "execution_count": null,
   "metadata": {
    "id": "UDqqgFt118SS"
   },
   "outputs": [],
   "source": [
    "### Model design with Embedding and LSTM layers ####\n",
    "# inputs = keras.Input(shape=(None,), dtype=\"int32\") # This is an easy way to set an adaptive length for input sequence\n",
    "# x = layers.Embedding( )(inputs) # Embed data in an 8-dimensional vector\n",
    "# x = layers.LSTM( )(x) # Add 1st layer of LSTM with 8 hidden states (aka units)\n",
    "# outputs = layers.Dense( )(x) # Add a classifier with units=1 and activation=\"sigmoid\"\n",
    "\n",
    "### Clear cached model to refresh memory and build new model for training ###\n",
    "keras.backend.clear_session() # Clear cached model\n",
    "# model = keras.Model(inputs, outputs) # Build new keras model\n",
    "# model.summary() # Print out model summary\n",
    "\n",
    "# model.compile( ) # Compile built model with \"adam\", \"binary_crossentropy\", and metrics=[\"accuracy\"]\n",
    "# model.fit( ) # Train the compiled model with model.fit()"
   ]
  },
  {
   "cell_type": "markdown",
   "metadata": {
    "id": "0vqvy2tdEw7J"
   },
   "source": [
    "### 2.3 - LSTM hyperparameter tuning (Bonus 15 Points) ###\n",
    "\n",
    "Boost the performance of obtained LSTM (aka vanilla model) by hyperparameter tuning.\n",
    "\n",
    "**Tasks:**\n",
    "- All modificiations are directly conducted based on the vanilla model above (from 2.2).\n",
    "- For each scenario, **report <span style=\"color:red\"> BEST Validation Accuracy </span> and generate Training/Validation <span style=\"color:red\"> Accuracy plots over epochs</span>**. You may just paste the plot figures in the cells with **Markdown mode**. Make sure it is correctly shown after jupyter notebook run the cell.\n",
    "1.  Scenario 1 (**5 points**):\n",
    "    - Add one additional LSTM layer (totally 2 LSTM layers).\n",
    "    - Modify the embedding dimension to 16.\n",
    "    - Modify the units of LSTM to 16.\n",
    "2. Scenario 2 (**5 points**)\n",
    "    - Add one additional LSTM layer (totally 2 LSTM layers).\n",
    "    - Modify the embedding dimension to 128.\n",
    "    - Modify the units of LSTM to 128.\n",
    "3. Scenario 3 (**5 points**)\n",
    "    - Add one additional LSTM layer (totally 2 LSTM layers).\n",
    "    - Modify the embedding dimension to 128.\n",
    "    - Modify the units of LSTM to 128.\n",
    "    - Increase analysis length for review data to maxlen = 200\n",
    "\n",
    "**Hints:**  \n",
    "For validation: the outputs for first epoch should be close to（but maybe not exactly following） the statistics below:\n",
    "- Scenario 1: **loss: ~0.4968 - accuracy: ~0.7450 - val_loss: ~0.4079 - val_accuracy: ~0.8198**\n",
    "- Scenario 2: **loss: ~0.4764 - accuracy: ~0.7670 - val_loss: ~0.4133 - val_accuracy: ~0.8179**\n",
    "- Scenario 3: **loss: ~0.4819 - accuracy: ~0.7644 - val_loss: ~0.4031 - val_accuracy: ~0.8105**\n",
    "\n",
    "You may follow the example from the reference below to add additional LSTM layer.\n",
    "\n",
    "**Useful Reference:**\n",
    "1. https://keras.io/examples/nlp/bidirectional_lstm_imdb/  "
   ]
  },
  {
   "cell_type": "code",
   "execution_count": null,
   "metadata": {
    "id": "Keod5xXkEKnx"
   },
   "outputs": [],
   "source": [
    "########################### Scenario 1 ###########################\n",
    "##################################################################\n",
    "\n",
    "### Set random seed to ensure deterministic results ###\n",
    "import os\n",
    "seed_value = 1\n",
    "os.environ['PYTHONHASHSEED']=str(seed_value)\n",
    "def reset_random_seeds():\n",
    "   tf.random.set_seed(seed_value)\n",
    "   np.random.seed(seed_value)\n",
    "   random.seed(seed_value)\n",
    "\n",
    "reset_random_seeds() # randomly set initial data\n",
    "\n",
    "# max_features =  # Only consider the top 1k words\n",
    "# maxlen =  # Only consider the first 100 words of each movie review\n",
    "\n",
    "### Model design with Embedding and LSTM layers ####\n",
    "# inputs = keras.Input(shape=(None,), dtype=\"int32\") # This is an easy way to set an adaptive length for input sequence\n",
    "# x = layers.Embedding( )(inputs) # Embed data in a 16-dimensional vector\n",
    "# x = layers.LSTM( )(x) # Add 1st layer of LSTM with 16 hidden states (aka units); set return_sequences=true.\n",
    "# x = layers.LSTM( )(x) # Add 2nd layer of LSTM with 16 hidden states (aka units)\n",
    "# outputs = layers.Dense( )(x) # Add a classifier with units=1 and activation=\"sigmoid\"\n",
    "\n",
    "### Clear cached model to refresh memory and build new model for training ###\n",
    "keras.backend.clear_session() # Clear cached model\n",
    "# model = keras.Model(inputs, outputs) # Build new keras model\n",
    "# model.summary() # Print out model summary\n",
    "\n",
    "# model.compile( ) # Compile built model with \"adam\", \"binary_crossentropy\", and metrics=[\"accuracy\"]\n",
    "# model.fit( ) # Train the compiled model using model.fit() with batch_size=64, epochs=10, and validation_data=(x_val, y_val)\n"
   ]
  },
  {
   "cell_type": "code",
   "execution_count": null,
   "metadata": {},
   "outputs": [],
   "source": [
    "########################### Scenario 2 ###########################\n",
    "##################################################################\n",
    "\n",
    "### Set random seed to ensure deterministic results ###\n",
    "import os\n",
    "seed_value = 1\n",
    "os.environ['PYTHONHASHSEED']=str(seed_value)\n",
    "def reset_random_seeds():\n",
    "   tf.random.set_seed(seed_value)\n",
    "   np.random.seed(seed_value)\n",
    "   random.seed(seed_value)\n",
    "\n",
    "reset_random_seeds() # randomly set initial data\n",
    "\n",
    "# max_features =   # Only consider the top 1k words\n",
    "# maxlen =  # Only consider the first 100 words of each movie review\n",
    "\n",
    "### Model design with Embedding and LSTM layers ####\n",
    "# inputs = keras.Input(shape=(None,), dtype=\"int32\") # This is an easy way to set an adaptive length for input sequence\n",
    "# x = layers.Embedding( )(inputs) # Embed data in a 128-dimensional vector\n",
    "# x = layers.LSTM( )(x) # Add 1st layer of LSTM with 128 hidden states (aka units); set return_sequences=true.\n",
    "# x = layers.LSTM( )(x) # Add 2nd layer of LSTM with 128 hidden states (aka units)\n",
    "# outputs = layers.Dense( )(x) # Add a classifier with units=1 and activation=\"sigmoid\"\n",
    "\n",
    "### Clear cached model to refresh memory and build new model for training ###\n",
    "keras.backend.clear_session() # Clear cached model\n",
    "# model = keras.Model(inputs, outputs) # Build new keras model\n",
    "# model.summary() # Print out model summary\n",
    "\n",
    "# model.compile( ) # Compile built model with \"adam\", \"binary_crossentropy\", and metrics=[\"accuracy\"]\n",
    "# model.fit( ) # Train the compiled model using model.fit() with batch_size=64, epochs=10, and validation_data=(x_val, y_val)"
   ]
  },
  {
   "cell_type": "code",
   "execution_count": null,
   "metadata": {},
   "outputs": [],
   "source": [
    "########################### Scenario 3 ###########################\n",
    "##################################################################\n",
    "\n",
    "### Set random seed to ensure deterministic results ###\n",
    "import os\n",
    "seed_value = 1\n",
    "os.environ['PYTHONHASHSEED']=str(seed_value)\n",
    "def reset_random_seeds():\n",
    "   tf.random.set_seed(seed_value)\n",
    "   np.random.seed(seed_value)\n",
    "   random.seed(seed_value)\n",
    "\n",
    "reset_random_seeds() # randomly set initial data\n",
    "\n",
    "max_features =   # Only consider the top 1k words\n",
    "maxlen = # Only consider the first 200 words of each movie review\n",
    "\n",
    "### Model design with Embedding and LSTM layers ####\n",
    "# inputs = keras.Input(shape=(None,), dtype=\"int32\") # This is an easy way to set an adaptive length for input sequence\n",
    "# x = layers.Embedding( )(inputs) # Embed data in a 128-dimensional vector\n",
    "# x = layers.LSTM( )(x) # Add 1st layer of LSTM with 128 hidden states (aka units); set return_sequences=true.\n",
    "# x = layers.LSTM( )(x) # Add 2nd layer of LSTM with 128 hidden states (aka units)\n",
    "# outputs = layers.Dense( )(x) # Add a classifier with units=1 and activation=\"sigmoid\"\n",
    "\n",
    "### Clear cached model to refresh memory and build new model for training ###\n",
    "keras.backend.clear_session() # Clear cached model\n",
    "# model = keras.Model(inputs, outputs) # Build new keras model\n",
    "# model.summary() # Print out model summary\n",
    "\n",
    "# model.compile( ) # Compile built model with \"adam\", \"binary_crossentropy\", and metrics=[\"accuracy\"]\n",
    "# model.fit( ) # Train the compiled model using model.fit() with batch_size=64, epochs=10, and validation_data=(x_val, y_val)"
   ]
  }
 ],
 "metadata": {
  "colab": {
   "collapsed_sections": [],
   "name": "Homework_04.ipynb",
   "provenance": []
  },
  "coursera": {
   "course_slug": "neural-networks-deep-learning",
   "graded_item_id": "XaIWT",
   "launcher_item_id": "zAgPl"
  },
  "kernelspec": {
   "display_name": "Python 3",
   "language": "python",
   "name": "python3"
  },
  "language_info": {
   "codemirror_mode": {
    "name": "ipython",
    "version": 3
   },
   "file_extension": ".py",
   "mimetype": "text/x-python",
   "name": "python",
   "nbconvert_exporter": "python",
   "pygments_lexer": "ipython3",
   "version": "3.8.3"
  }
 },
 "nbformat": 4,
 "nbformat_minor": 1
}
