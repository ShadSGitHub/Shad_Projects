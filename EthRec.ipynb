{
  "nbformat": 4,
  "nbformat_minor": 0,
  "metadata": {
    "colab": {
      "name": "Promt7.ipynb",
      "provenance": [],
      "collapsed_sections": []
    },
    "kernelspec": {
      "name": "python3",
      "display_name": "Python 3"
    },
    "language_info": {
      "name": "python"
    },
    "accelerator": "GPU",
    "widgets": {
      "application/vnd.jupyter.widget-state+json": {
        "8ceddf8b913c413b9e080cd4ff13d042": {
          "model_module": "@jupyter-widgets/controls",
          "model_name": "HBoxModel",
          "state": {
            "_view_name": "HBoxView",
            "_dom_classes": [],
            "_model_name": "HBoxModel",
            "_view_module": "@jupyter-widgets/controls",
            "_model_module_version": "1.5.0",
            "_view_count": null,
            "_view_module_version": "1.5.0",
            "box_style": "",
            "layout": "IPY_MODEL_75c9f78d75254da7bf9d22c86ef39ba0",
            "_model_module": "@jupyter-widgets/controls",
            "children": [
              "IPY_MODEL_1ba907c1b2f04938a36d3333299cb99f",
              "IPY_MODEL_53f84384c923495191d44138d5aa14c2"
            ]
          }
        },
        "75c9f78d75254da7bf9d22c86ef39ba0": {
          "model_module": "@jupyter-widgets/base",
          "model_name": "LayoutModel",
          "state": {
            "_view_name": "LayoutView",
            "grid_template_rows": null,
            "right": null,
            "justify_content": null,
            "_view_module": "@jupyter-widgets/base",
            "overflow": null,
            "_model_module_version": "1.2.0",
            "_view_count": null,
            "flex_flow": null,
            "width": null,
            "min_width": null,
            "border": null,
            "align_items": null,
            "bottom": null,
            "_model_module": "@jupyter-widgets/base",
            "top": null,
            "grid_column": null,
            "overflow_y": null,
            "overflow_x": null,
            "grid_auto_flow": null,
            "grid_area": null,
            "grid_template_columns": null,
            "flex": null,
            "_model_name": "LayoutModel",
            "justify_items": null,
            "grid_row": null,
            "max_height": null,
            "align_content": null,
            "visibility": null,
            "align_self": null,
            "height": null,
            "min_height": null,
            "padding": null,
            "grid_auto_rows": null,
            "grid_gap": null,
            "max_width": null,
            "order": null,
            "_view_module_version": "1.2.0",
            "grid_template_areas": null,
            "object_position": null,
            "object_fit": null,
            "grid_auto_columns": null,
            "margin": null,
            "display": null,
            "left": null
          }
        },
        "1ba907c1b2f04938a36d3333299cb99f": {
          "model_module": "@jupyter-widgets/controls",
          "model_name": "FloatProgressModel",
          "state": {
            "_view_name": "ProgressView",
            "style": "IPY_MODEL_ec3c0d5f3d6e4080a6a04b754e1c18b1",
            "_dom_classes": [],
            "description": "100%",
            "_model_name": "FloatProgressModel",
            "bar_style": "success",
            "max": 23704,
            "_view_module": "@jupyter-widgets/controls",
            "_model_module_version": "1.5.0",
            "value": 23704,
            "_view_count": null,
            "_view_module_version": "1.5.0",
            "orientation": "horizontal",
            "min": 0,
            "description_tooltip": null,
            "_model_module": "@jupyter-widgets/controls",
            "layout": "IPY_MODEL_1d837d85b797428ea95efe6fe4c6a0a8"
          }
        },
        "53f84384c923495191d44138d5aa14c2": {
          "model_module": "@jupyter-widgets/controls",
          "model_name": "HTMLModel",
          "state": {
            "_view_name": "HTMLView",
            "style": "IPY_MODEL_8dd8148b77e64dcc8fec706b52e6d5a0",
            "_dom_classes": [],
            "description": "",
            "_model_name": "HTMLModel",
            "placeholder": "​",
            "_view_module": "@jupyter-widgets/controls",
            "_model_module_version": "1.5.0",
            "value": " 23704/23704 [00:13&lt;00:00, 1716.69it/s]",
            "_view_count": null,
            "_view_module_version": "1.5.0",
            "description_tooltip": null,
            "_model_module": "@jupyter-widgets/controls",
            "layout": "IPY_MODEL_b989fa2ea6e24acc9d45b9619524a3b5"
          }
        },
        "ec3c0d5f3d6e4080a6a04b754e1c18b1": {
          "model_module": "@jupyter-widgets/controls",
          "model_name": "ProgressStyleModel",
          "state": {
            "_view_name": "StyleView",
            "_model_name": "ProgressStyleModel",
            "description_width": "initial",
            "_view_module": "@jupyter-widgets/base",
            "_model_module_version": "1.5.0",
            "_view_count": null,
            "_view_module_version": "1.2.0",
            "bar_color": null,
            "_model_module": "@jupyter-widgets/controls"
          }
        },
        "1d837d85b797428ea95efe6fe4c6a0a8": {
          "model_module": "@jupyter-widgets/base",
          "model_name": "LayoutModel",
          "state": {
            "_view_name": "LayoutView",
            "grid_template_rows": null,
            "right": null,
            "justify_content": null,
            "_view_module": "@jupyter-widgets/base",
            "overflow": null,
            "_model_module_version": "1.2.0",
            "_view_count": null,
            "flex_flow": null,
            "width": null,
            "min_width": null,
            "border": null,
            "align_items": null,
            "bottom": null,
            "_model_module": "@jupyter-widgets/base",
            "top": null,
            "grid_column": null,
            "overflow_y": null,
            "overflow_x": null,
            "grid_auto_flow": null,
            "grid_area": null,
            "grid_template_columns": null,
            "flex": null,
            "_model_name": "LayoutModel",
            "justify_items": null,
            "grid_row": null,
            "max_height": null,
            "align_content": null,
            "visibility": null,
            "align_self": null,
            "height": null,
            "min_height": null,
            "padding": null,
            "grid_auto_rows": null,
            "grid_gap": null,
            "max_width": null,
            "order": null,
            "_view_module_version": "1.2.0",
            "grid_template_areas": null,
            "object_position": null,
            "object_fit": null,
            "grid_auto_columns": null,
            "margin": null,
            "display": null,
            "left": null
          }
        },
        "8dd8148b77e64dcc8fec706b52e6d5a0": {
          "model_module": "@jupyter-widgets/controls",
          "model_name": "DescriptionStyleModel",
          "state": {
            "_view_name": "StyleView",
            "_model_name": "DescriptionStyleModel",
            "description_width": "",
            "_view_module": "@jupyter-widgets/base",
            "_model_module_version": "1.5.0",
            "_view_count": null,
            "_view_module_version": "1.2.0",
            "_model_module": "@jupyter-widgets/controls"
          }
        },
        "b989fa2ea6e24acc9d45b9619524a3b5": {
          "model_module": "@jupyter-widgets/base",
          "model_name": "LayoutModel",
          "state": {
            "_view_name": "LayoutView",
            "grid_template_rows": null,
            "right": null,
            "justify_content": null,
            "_view_module": "@jupyter-widgets/base",
            "overflow": null,
            "_model_module_version": "1.2.0",
            "_view_count": null,
            "flex_flow": null,
            "width": null,
            "min_width": null,
            "border": null,
            "align_items": null,
            "bottom": null,
            "_model_module": "@jupyter-widgets/base",
            "top": null,
            "grid_column": null,
            "overflow_y": null,
            "overflow_x": null,
            "grid_auto_flow": null,
            "grid_area": null,
            "grid_template_columns": null,
            "flex": null,
            "_model_name": "LayoutModel",
            "justify_items": null,
            "grid_row": null,
            "max_height": null,
            "align_content": null,
            "visibility": null,
            "align_self": null,
            "height": null,
            "min_height": null,
            "padding": null,
            "grid_auto_rows": null,
            "grid_gap": null,
            "max_width": null,
            "order": null,
            "_view_module_version": "1.2.0",
            "grid_template_areas": null,
            "object_position": null,
            "object_fit": null,
            "grid_auto_columns": null,
            "margin": null,
            "display": null,
            "left": null
          }
        }
      }
    }
  },
  "cells": [
    {
      "cell_type": "code",
      "metadata": {
        "colab": {
          "base_uri": "https://localhost:8080/"
        },
        "id": "ZZERncCKiyMB",
        "outputId": "72454a8b-c8d2-4f78-ca8c-4c187caa7224"
      },
      "source": [
        "from google.colab import drive\n",
        "drive.mount('/content/drive')"
      ],
      "execution_count": null,
      "outputs": [
        {
          "output_type": "stream",
          "text": [
            "Drive already mounted at /content/drive; to attempt to forcibly remount, call drive.mount(\"/content/drive\", force_remount=True).\n"
          ],
          "name": "stdout"
        }
      ]
    },
    {
      "cell_type": "code",
      "metadata": {
        "id": "s3qbEnRHoBAU"
      },
      "source": [
        "import pandas as pd\n",
        "import numpy as np\n",
        "from tqdm.notebook import trange, tqdm\n",
        "from PIL import Image\n"
      ],
      "execution_count": null,
      "outputs": []
    },
    {
      "cell_type": "code",
      "metadata": {
        "id": "_6M6E1G7WtcE"
      },
      "source": [
        "path = \"/content/drive/MyDrive/age_gender.csv\"\n",
        "\n",
        "df = pd.read_csv(path)\n",
        "import pandas as pd\n",
        "  "
      ],
      "execution_count": null,
      "outputs": []
    },
    {
      "cell_type": "code",
      "metadata": {
        "id": "Zs7bwSL8N1sd"
      },
      "source": [
        "import tensorflow as tf\n",
        "import tensorflow.keras as keras\n",
        "import tensorflow.keras.layers \n",
        "import random\n",
        "import numpy as np\n",
        "from keras.preprocessing.image import img_to_array\n",
        "from keras.preprocessing.image import ImageDataGenerator\n",
        "\n",
        "from tensorflow.keras import layers\n",
        "from tensorflow.keras import regularizers"
      ],
      "execution_count": null,
      "outputs": []
    },
    {
      "cell_type": "code",
      "metadata": {
        "colab": {
          "base_uri": "https://localhost:8080/",
          "height": 66,
          "referenced_widgets": [
            "8ceddf8b913c413b9e080cd4ff13d042",
            "75c9f78d75254da7bf9d22c86ef39ba0",
            "1ba907c1b2f04938a36d3333299cb99f",
            "53f84384c923495191d44138d5aa14c2",
            "ec3c0d5f3d6e4080a6a04b754e1c18b1",
            "1d837d85b797428ea95efe6fe4c6a0a8",
            "8dd8148b77e64dcc8fec706b52e6d5a0",
            "b989fa2ea6e24acc9d45b9619524a3b5"
          ]
        },
        "id": "s8QJd-SkJcZM",
        "outputId": "bcd2a375-9735-472f-c8d8-95b726bf052d"
      },
      "source": [
        " x_batch = np.zeros((23705, 48, 48, 1))\n",
        " for i in tqdm(range(1,23705)):\n",
        "   image = np.array(df['pixels'][i].split(), 'float64')\n",
        "   image = image.reshape(48, 48, 1) / 255.0\n",
        "   x_batch[i] = image"
      ],
      "execution_count": null,
      "outputs": [
        {
          "output_type": "display_data",
          "data": {
            "application/vnd.jupyter.widget-view+json": {
              "model_id": "8ceddf8b913c413b9e080cd4ff13d042",
              "version_minor": 0,
              "version_major": 2
            },
            "text/plain": [
              "HBox(children=(FloatProgress(value=0.0, max=23704.0), HTML(value='')))"
            ]
          },
          "metadata": {
            "tags": []
          }
        },
        {
          "output_type": "stream",
          "text": [
            "\n"
          ],
          "name": "stdout"
        }
      ]
    },
    {
      "cell_type": "code",
      "metadata": {
        "id": "lFOmnzcKqksA"
      },
      "source": [
        "ethnicity_mapping = {0:\"White\", 1:\"Black\", 2:\"Asian\", 3:\"Indian\", 4:\"Hispanic\"}"
      ],
      "execution_count": null,
      "outputs": []
    },
    {
      "cell_type": "code",
      "metadata": {
        "colab": {
          "base_uri": "https://localhost:8080/"
        },
        "id": "XGBKEtkQOPjI",
        "outputId": "b15cf9c2-082f-4765-e7d7-9de835934ad0"
      },
      "source": [
        "eth1 = df['ethnicity']\n",
        "for i in range(5):\n",
        "  eth1 = eth1.replace(i, ethnicity_mapping[i])\n",
        "eth1   "
      ],
      "execution_count": null,
      "outputs": [
        {
          "output_type": "execute_result",
          "data": {
            "text/plain": [
              "0        Asian\n",
              "1        Asian\n",
              "2        Asian\n",
              "3        Asian\n",
              "4        Asian\n",
              "         ...  \n",
              "23700    White\n",
              "23701    Black\n",
              "23702    Asian\n",
              "23703    Asian\n",
              "23704    White\n",
              "Name: ethnicity, Length: 23705, dtype: object"
            ]
          },
          "metadata": {
            "tags": []
          },
          "execution_count": 7
        }
      ]
    },
    {
      "cell_type": "code",
      "metadata": {
        "colab": {
          "base_uri": "https://localhost:8080/"
        },
        "id": "KsTAUaTQcqvb",
        "outputId": "f6db6a9c-d975-443f-cf3e-e981f6c37edc"
      },
      "source": [
        "\n",
        "eth = pd.get_dummies(eth1)\n",
        "y = np.array(eth[\"White\"]).reshape((23705,1))\n",
        "for i in range(1,5):\n",
        "  labels = eth[ethnicity_mapping[i]].to_numpy().reshape((23705,1))\n",
        "  y = np.append(y,labels,axis=1)\n",
        "\n",
        "y"
      ],
      "execution_count": null,
      "outputs": [
        {
          "output_type": "execute_result",
          "data": {
            "text/plain": [
              "array([[0, 0, 1, 0, 0],\n",
              "       [0, 0, 1, 0, 0],\n",
              "       [0, 0, 1, 0, 0],\n",
              "       ...,\n",
              "       [0, 0, 1, 0, 0],\n",
              "       [0, 0, 1, 0, 0],\n",
              "       [1, 0, 0, 0, 0]], dtype=uint8)"
            ]
          },
          "metadata": {
            "tags": []
          },
          "execution_count": 8
        }
      ]
    },
    {
      "cell_type": "code",
      "metadata": {
        "id": "A9T4tgiR3yX6"
      },
      "source": [
        "optimizer = keras.optimizers.Adam(learning_rate=0.001)\n",
        "from sklearn.model_selection import train_test_split\n",
        "X_train, X_test, y_train, y_test = train_test_split(x_batch, y, test_size=0.1)"
      ],
      "execution_count": null,
      "outputs": []
    },
    {
      "cell_type": "code",
      "metadata": {
        "colab": {
          "base_uri": "https://localhost:8080/"
        },
        "id": "FtXx01aEJrua",
        "outputId": "e34217bf-9419-4ab3-bc60-162600c17899"
      },
      "source": [
        "model = keras.Sequential(\n",
        "    [\n",
        "        keras.Input(shape=(48,48,1)),\n",
        "        layers.Conv2D(32, kernel_size=(3, 3), activation=\"relu\"),\n",
        "        layers.Conv2D(32, kernel_size=(3, 3), activation=\"relu\" ),\n",
        "        layers.MaxPooling2D(pool_size=(2, 2)),\n",
        "        layers.BatchNormalization(),\n",
        "     \n",
        "        layers.Conv2D(64, kernel_size=(5, 5), activation=\"relu\" ),\n",
        "        layers.Conv2D(128, kernel_size=(3, 3), activation=\"relu\" ),\n",
        "        layers.MaxPooling2D(pool_size=(2, 2)),\n",
        "        \n",
        "        layers.BatchNormalization(),\n",
        "     \n",
        "        layers.Conv2D(64, kernel_size=(3, 3), activation=\"relu\"),\n",
        "        layers.Conv2D(128, kernel_size=(3, 3), activation=\"relu\"),\n",
        "        layers.MaxPooling2D(pool_size=(2, 2)),\n",
        "         \n",
        "        layers.BatchNormalization(),\n",
        "        \n",
        "\n",
        "        layers.Flatten(),\n",
        "        layers.Dense(100, activation='relu'),\n",
        "        layers.Dense(200, activation='relu'),\n",
        "        layers.Dense(5, activation='softmax')\n",
        "    ]\n",
        ")\n",
        "model.summary()"
      ],
      "execution_count": null,
      "outputs": [
        {
          "output_type": "stream",
          "text": [
            "WARNING:tensorflow:Please add `keras.layers.InputLayer` instead of `keras.Input` to Sequential model. `keras.Input` is intended to be used by Functional model.\n",
            "Model: \"sequential\"\n",
            "_________________________________________________________________\n",
            "Layer (type)                 Output Shape              Param #   \n",
            "=================================================================\n",
            "conv2d (Conv2D)              (None, 46, 46, 32)        320       \n",
            "_________________________________________________________________\n",
            "conv2d_1 (Conv2D)            (None, 44, 44, 32)        9248      \n",
            "_________________________________________________________________\n",
            "max_pooling2d (MaxPooling2D) (None, 22, 22, 32)        0         \n",
            "_________________________________________________________________\n",
            "batch_normalization (BatchNo (None, 22, 22, 32)        128       \n",
            "_________________________________________________________________\n",
            "conv2d_2 (Conv2D)            (None, 18, 18, 64)        51264     \n",
            "_________________________________________________________________\n",
            "conv2d_3 (Conv2D)            (None, 16, 16, 128)       73856     \n",
            "_________________________________________________________________\n",
            "max_pooling2d_1 (MaxPooling2 (None, 8, 8, 128)         0         \n",
            "_________________________________________________________________\n",
            "batch_normalization_1 (Batch (None, 8, 8, 128)         512       \n",
            "_________________________________________________________________\n",
            "conv2d_4 (Conv2D)            (None, 6, 6, 64)          73792     \n",
            "_________________________________________________________________\n",
            "conv2d_5 (Conv2D)            (None, 4, 4, 128)         73856     \n",
            "_________________________________________________________________\n",
            "max_pooling2d_2 (MaxPooling2 (None, 2, 2, 128)         0         \n",
            "_________________________________________________________________\n",
            "batch_normalization_2 (Batch (None, 2, 2, 128)         512       \n",
            "_________________________________________________________________\n",
            "flatten (Flatten)            (None, 512)               0         \n",
            "_________________________________________________________________\n",
            "dense (Dense)                (None, 100)               51300     \n",
            "_________________________________________________________________\n",
            "dense_1 (Dense)              (None, 200)               20200     \n",
            "_________________________________________________________________\n",
            "dense_2 (Dense)              (None, 5)                 1005      \n",
            "=================================================================\n",
            "Total params: 355,993\n",
            "Trainable params: 355,417\n",
            "Non-trainable params: 576\n",
            "_________________________________________________________________\n"
          ],
          "name": "stdout"
        }
      ]
    },
    {
      "cell_type": "code",
      "metadata": {
        "id": "uk1xZ6YmIhQq"
      },
      "source": [
        "model.compile(loss=\"categorical_crossentropy\", optimizer=optimizer, metrics=[\"accuracy\"])\n",
        "aug = ImageDataGenerator(rotation_range=20, zoom_range=0.2,\n",
        "\twidth_shift_range=0.2, height_shift_range=0.2, shear_range=0.2,\n",
        "\thorizontal_flip=True,vertical_flip=True,fill_mode=\"nearest\")\n",
        "# train the network\n",
        "#H = model.fit(aug.flow(X_train, y_train,shuffle=True,batch_size=100), validation_data=(X_test,y_test), shuffle=True,epochs=100)\n",
        "H = model.fit(x_batch, y, batch_size=250, epochs=100, validation_split=0.1,shuffle=True)"
      ],
      "execution_count": null,
      "outputs": []
    },
    {
      "cell_type": "code",
      "metadata": {
        "colab": {
          "base_uri": "https://localhost:8080/",
          "height": 317
        },
        "id": "PlrkDTJhbBTn",
        "outputId": "bb4faf00-1496-47c6-eef0-a57b6b7959af"
      },
      "source": [
        "import imageio\n",
        "import matplotlib.image as mpimg \n",
        "import matplotlib.pyplot as plt \n",
        "\n",
        "score = model.evaluate(x_batch, y, verbose=0)\n",
        "print(\"Test loss:\", score[0])\n",
        "print(\"Test accuracy:\", score[1])\n",
        "\n",
        "import pandas as pd\n",
        "\n",
        "hist_df = pd.DataFrame(H.history)\n",
        "#a = hist_df.iloc[:, 2].to_numpy()\n",
        "b = hist_df.iloc[:, 3].to_numpy()\n",
        "\n",
        "\n",
        "#plt.plot(a, c='red',label='Validation loss')\n",
        "plt.plot(b,label='Validation accuracy')\n",
        "plt.legend()"
      ],
      "execution_count": null,
      "outputs": [
        {
          "output_type": "stream",
          "text": [
            "Test loss: 0.17541134357452393\n",
            "Test accuracy: 0.9714828133583069\n"
          ],
          "name": "stdout"
        },
        {
          "output_type": "execute_result",
          "data": {
            "text/plain": [
              "<matplotlib.legend.Legend at 0x7ffb1028ae10>"
            ]
          },
          "metadata": {
            "tags": []
          },
          "execution_count": 12
        },
        {
          "output_type": "display_data",
          "data": {
            "image/png": "[encoded data removed]",
            "text/plain": [
              "<Figure size 432x288 with 1 Axes>"
            ]
          },
          "metadata": {
            "tags": [],
            "needs_background": "light"
          }
        }
      ]
    },
    {
      "cell_type": "code",
      "metadata": {
        "colab": {
          "base_uri": "https://localhost:8080/"
        },
        "id": "vQ17aPPCgbw7",
        "outputId": "37406972-1aea-4312-b43a-02b9384c3f39"
      },
      "source": [
        "a = hist_df.iloc[:, 3].to_numpy()\n",
        "a.mean()"
      ],
      "execution_count": null,
      "outputs": [
        {
          "output_type": "execute_result",
          "data": {
            "text/plain": [
              "0.7913243365287781"
            ]
          },
          "metadata": {
            "tags": []
          },
          "execution_count": 15
        }
      ]
    },
    {
      "cell_type": "code",
      "metadata": {
        "id": "89DZCVTddmCM"
      },
      "source": [
        "%%capture\n",
        "!wget -nc https://raw.githubusercontent.com/brpy/colab-pdf/master/colab_pdf.py\n",
        "from colab_pdf import colab_pdf\n",
        "colab_pdf('Promt7.ipynb')"
      ],
      "execution_count": null,
      "outputs": []
    }
  ]
}